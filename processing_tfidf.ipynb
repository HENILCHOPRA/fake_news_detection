{
 "cells": [
  {
   "cell_type": "code",
   "execution_count": 1,
   "metadata": {
    "colab": {
     "base_uri": "https://localhost:8080/",
     "height": 124
    },
    "colab_type": "code",
    "collapsed": true,
    "executionInfo": {
     "elapsed": 45486,
     "status": "ok",
     "timestamp": 1586620179963,
     "user": {
      "displayName": "Henil Chopda",
      "photoUrl": "https://lh3.googleusercontent.com/a-/AOh14GhJK54mwO2SF_uu5dZJg5eWR6KEn0OJXruxC2l1EQ=s64",
      "userId": "11801233704060940220"
     },
     "user_tz": -330
    },
    "id": "Y-DcUw5sJz09",
    "outputId": "41dcf5ea-96b6-45d0-c924-bb97f8636a45"
   },
   "outputs": [
    {
     "name": "stdout",
     "output_type": "stream",
     "text": [
      "Go to this URL in a browser: https://accounts.google.com/o/oauth2/auth?client_id=947318989803-6bn6qk8qdgf4n4g3pfee6491hc0brc4i.apps.googleusercontent.com&redirect_uri=urn%3aietf%3awg%3aoauth%3a2.0%3aoob&response_type=code&scope=email%20https%3a%2f%2fwww.googleapis.com%2fauth%2fdocs.test%20https%3a%2f%2fwww.googleapis.com%2fauth%2fdrive%20https%3a%2f%2fwww.googleapis.com%2fauth%2fdrive.photos.readonly%20https%3a%2f%2fwww.googleapis.com%2fauth%2fpeopleapi.readonly\n",
      "\n",
      "Enter your authorization code:\n",
      "··········\n",
      "Mounted at /content/drive\n"
     ]
    }
   ],
   "source": [
    "import pandas as pd\n",
    "import numpy as np\n",
    "import string\n",
    "import nltk\n",
    "import re\n",
    "\n",
    "\n",
    "\n",
    "from sklearn.model_selection import cross_validate\n",
    "from sklearn.linear_model import LogisticRegression\n",
    "from sklearn import neighbors,preprocessing,svm\n",
    "from sklearn.model_selection import cross_val_score\n",
    "from sklearn.model_selection import train_test_split"
   ]
  },
  {
   "cell_type": "code",
   "execution_count": 0,
   "metadata": {
    "colab": {},
    "colab_type": "code",
    "id": "6ibVxtQRWEOp"
   },
   "outputs": [],
   "source": [
    "df = pd.read_csv('/content/drive/My Drive/Colab Notebooks/All.csv')\n",
    "df = df['label']\n",
    "feat = pd.read_csv('/content/drive/My Drive/Colab Notebooks/df_tf.csv')"
   ]
  },
  {
   "cell_type": "code",
   "execution_count": 3,
   "metadata": {
    "colab": {
     "base_uri": "https://localhost:8080/",
     "height": 35
    },
    "colab_type": "code",
    "executionInfo": {
     "elapsed": 285175,
     "status": "ok",
     "timestamp": 1586620419759,
     "user": {
      "displayName": "Henil Chopda",
      "photoUrl": "https://lh3.googleusercontent.com/a-/AOh14GhJK54mwO2SF_uu5dZJg5eWR6KEn0OJXruxC2l1EQ=s64",
      "userId": "11801233704060940220"
     },
     "user_tz": -330
    },
    "id": "Wyg8gSybWnei",
    "outputId": "5d8b8d1f-a284-455a-841a-c4871d9d9a6e"
   },
   "outputs": [
    {
     "data": {
      "text/plain": [
       "3662"
      ]
     },
     "execution_count": 3,
     "metadata": {
      "tags": []
     },
     "output_type": "execute_result"
    }
   ],
   "source": [
    "len(df)"
   ]
  },
  {
   "cell_type": "markdown",
   "metadata": {
    "colab_type": "text",
    "id": "G0ATf_ZOXeRQ"
   },
   "source": [
    "**KNN**"
   ]
  },
  {
   "cell_type": "code",
   "execution_count": 4,
   "metadata": {
    "colab": {
     "base_uri": "https://localhost:8080/",
     "height": 35
    },
    "colab_type": "code",
    "executionInfo": {
     "elapsed": 313025,
     "status": "ok",
     "timestamp": 1586620447659,
     "user": {
      "displayName": "Henil Chopda",
      "photoUrl": "https://lh3.googleusercontent.com/a-/AOh14GhJK54mwO2SF_uu5dZJg5eWR6KEn0OJXruxC2l1EQ=s64",
      "userId": "11801233704060940220"
     },
     "user_tz": -330
    },
    "id": "fcwHgXxtW_JJ",
    "outputId": "177b80bb-21f6-483f-8697-13b9f940091a"
   },
   "outputs": [
    {
     "name": "stdout",
     "output_type": "stream",
     "text": [
      "0.538881309686221\n"
     ]
    }
   ],
   "source": [
    "X = np.array(feat)\n",
    "y = np.array(df)\n",
    "\n",
    "X_train, X_test, y_train, y_test= train_test_split(X,y, test_size=0.2)\n",
    "\n",
    "clf = neighbors.KNeighborsClassifier()\n",
    "clf.fit(X_train,y_train)\n",
    "acc = clf.score(X_test,y_test)\n",
    "print(acc)"
   ]
  },
  {
   "cell_type": "markdown",
   "metadata": {
    "colab_type": "text",
    "id": "QVgIKs5HXtgO"
   },
   "source": [
    "**Logistic Regression**"
   ]
  },
  {
   "cell_type": "code",
   "execution_count": 5,
   "metadata": {
    "colab": {
     "base_uri": "https://localhost:8080/",
     "height": 35
    },
    "colab_type": "code",
    "executionInfo": {
     "elapsed": 335618,
     "status": "ok",
     "timestamp": 1586620470296,
     "user": {
      "displayName": "Henil Chopda",
      "photoUrl": "https://lh3.googleusercontent.com/a-/AOh14GhJK54mwO2SF_uu5dZJg5eWR6KEn0OJXruxC2l1EQ=s64",
      "userId": "11801233704060940220"
     },
     "user_tz": -330
    },
    "id": "WgMTe8ctVH0F",
    "outputId": "d6bb6003-862b-4990-bd9b-7b985a33bc14"
   },
   "outputs": [
    {
     "name": "stdout",
     "output_type": "stream",
     "text": [
      "0.9604365620736699\n"
     ]
    }
   ],
   "source": [
    "clf = LogisticRegression()\n",
    "clf.fit(X_train,y_train)\n",
    "acc = clf.score(X_test,y_test)\n",
    "print(acc)"
   ]
  },
  {
   "cell_type": "markdown",
   "metadata": {
    "colab_type": "text",
    "id": "Ub9bNOvHYRc1"
   },
   "source": [
    "**SVM**"
   ]
  },
  {
   "cell_type": "code",
   "execution_count": 0,
   "metadata": {
    "colab": {},
    "colab_type": "code",
    "id": "yYi6peJrYQuo"
   },
   "outputs": [],
   "source": [
    "clf = svm.SVC(kernel = 'linear')\n",
    "clf.fit(X_train,y_train)\n",
    "acc = clf.score(X_test,y_test)\n",
    "print(acc)"
   ]
  }
 ],
 "metadata": {
  "accelerator": "GPU",
  "colab": {
   "authorship_tag": "ABX9TyNzHOohwV5S+gIu6x66tdXn",
   "collapsed_sections": [],
   "name": "processing_tfidf",
   "provenance": []
  },
  "kernelspec": {
   "display_name": "Python 3",
   "language": "python",
   "name": "python3"
  },
  "language_info": {
   "codemirror_mode": {
    "name": "ipython",
    "version": 3
   },
   "file_extension": ".py",
   "mimetype": "text/x-python",
   "name": "python",
   "nbconvert_exporter": "python",
   "pygments_lexer": "ipython3",
   "version": "3.7.4"
  }
 },
 "nbformat": 4,
 "nbformat_minor": 1
}
