{
 "cells": [
  {
   "cell_type": "code",
   "execution_count": 0,
   "metadata": {
    "colab": {
     "base_uri": "https://localhost:8080/",
     "height": 35
    },
    "colab_type": "code",
    "executionInfo": {
     "elapsed": 1367,
     "status": "ok",
     "timestamp": 1586578288333,
     "user": {
      "displayName": "Henil Chopda",
      "photoUrl": "https://lh3.googleusercontent.com/a-/AOh14GhJK54mwO2SF_uu5dZJg5eWR6KEn0OJXruxC2l1EQ=s64",
      "userId": "11801233704060940220"
     },
     "user_tz": -330
    },
    "id": "Y-DcUw5sJz09",
    "outputId": "fcd0996e-59eb-40da-fd8f-f37f848a2f21"
   },
   "outputs": [
    {
     "name": "stdout",
     "output_type": "stream",
     "text": [
      "Drive already mounted at /content/drive; to attempt to forcibly remount, call drive.mount(\"/content/drive\", force_remount=True).\n"
     ]
    }
   ],
   "source": [
    "import pandas as pd\n",
    "import numpy as np\n",
    "import string\n",
    "import nltk\n",
    "import re\n",
    "\n",
    "\n",
    "\n",
    "from sklearn.model_selection import cross_validate\n",
    "from sklearn.linear_model import LogisticRegression\n",
    "from sklearn import neighbors,preprocessing,svm\n",
    "from sklearn.model_selection import cross_val_score\n",
    "from sklearn.model_selection import train_test_split\n",
    "import pickle"
   ]
  },
  {
   "cell_type": "code",
   "execution_count": 0,
   "metadata": {
    "colab": {},
    "colab_type": "code",
    "id": "6ibVxtQRWEOp"
   },
   "outputs": [],
   "source": [
    "df = pd.read_csv('/content/drive/My Drive/Colab Notebooks/All.csv')\n",
    "df = df['label']\n",
    "feat = pd.read_csv('/content/drive/My Drive/Colab Notebooks/df_cv.csv')"
   ]
  },
  {
   "cell_type": "code",
   "execution_count": 0,
   "metadata": {
    "colab": {
     "base_uri": "https://localhost:8080/",
     "height": 35
    },
    "colab_type": "code",
    "executionInfo": {
     "elapsed": 1421,
     "status": "ok",
     "timestamp": 1586577099965,
     "user": {
      "displayName": "Henil Chopda",
      "photoUrl": "https://lh3.googleusercontent.com/a-/AOh14GhJK54mwO2SF_uu5dZJg5eWR6KEn0OJXruxC2l1EQ=s64",
      "userId": "11801233704060940220"
     },
     "user_tz": -330
    },
    "id": "Wyg8gSybWnei",
    "outputId": "455b1a08-74af-4080-952e-15e5af7c1e7d"
   },
   "outputs": [
    {
     "data": {
      "text/plain": [
       "3662"
      ]
     },
     "execution_count": 6,
     "metadata": {
      "tags": []
     },
     "output_type": "execute_result"
    }
   ],
   "source": [
    "# ########################------load classifier\n",
    "# pickle_in = open('linearregression.pickle', 'rb')\n",
    "# clf = pickle.load(pickle_in)"
   ]
  },
  {
   "cell_type": "markdown",
   "metadata": {
    "colab_type": "text",
    "id": "G0ATf_ZOXeRQ"
   },
   "source": [
    "**KNN**"
   ]
  },
  {
   "cell_type": "code",
   "execution_count": 0,
   "metadata": {
    "colab": {
     "base_uri": "https://localhost:8080/",
     "height": 35
    },
    "colab_type": "code",
    "executionInfo": {
     "elapsed": 37429,
     "status": "ok",
     "timestamp": 1586579049361,
     "user": {
      "displayName": "Henil Chopda",
      "photoUrl": "https://lh3.googleusercontent.com/a-/AOh14GhJK54mwO2SF_uu5dZJg5eWR6KEn0OJXruxC2l1EQ=s64",
      "userId": "11801233704060940220"
     },
     "user_tz": -330
    },
    "id": "fcwHgXxtW_JJ",
    "outputId": "2bd457a3-c8f2-4a79-e8ea-3479f6b97ed9"
   },
   "outputs": [
    {
     "name": "stdout",
     "output_type": "stream",
     "text": [
      "0.5634379263301501\n"
     ]
    }
   ],
   "source": [
    "X = np.array(feat)\n",
    "y = np.array(df)\n",
    "\n",
    "X_train, X_test, y_train, y_test= train_test_split(X,y, test_size=0.2)\n",
    "\n",
    "clf = neighbors.KNeighborsClassifier(n_neighbors=10)\n",
    "clf.fit(X_train,y_train)\n",
    "acc = clf.score(X_test,y_test)\n",
    "print(acc)"
   ]
  },
  {
   "cell_type": "code",
   "execution_count": 0,
   "metadata": {
    "colab": {},
    "colab_type": "code",
    "id": "rLfl4i9JbzB7"
   },
   "outputs": [],
   "source": []
  },
  {
   "cell_type": "markdown",
   "metadata": {
    "colab_type": "text",
    "id": "QVgIKs5HXtgO"
   },
   "source": [
    "**Logistic Regression**"
   ]
  },
  {
   "cell_type": "code",
   "execution_count": 0,
   "metadata": {
    "colab": {
     "base_uri": "https://localhost:8080/",
     "height": 173
    },
    "colab_type": "code",
    "executionInfo": {
     "elapsed": 29013,
     "status": "ok",
     "timestamp": 1586578489604,
     "user": {
      "displayName": "Henil Chopda",
      "photoUrl": "https://lh3.googleusercontent.com/a-/AOh14GhJK54mwO2SF_uu5dZJg5eWR6KEn0OJXruxC2l1EQ=s64",
      "userId": "11801233704060940220"
     },
     "user_tz": -330
    },
    "id": "WgMTe8ctVH0F",
    "outputId": "cfec3d98-b4f5-4319-ebd6-d594e18e557d"
   },
   "outputs": [
    {
     "name": "stderr",
     "output_type": "stream",
     "text": [
      "/usr/local/lib/python3.6/dist-packages/sklearn/linear_model/_logistic.py:940: ConvergenceWarning: lbfgs failed to converge (status=1):\n",
      "STOP: TOTAL NO. of ITERATIONS REACHED LIMIT.\n",
      "\n",
      "Increase the number of iterations (max_iter) or scale the data as shown in:\n",
      "    https://scikit-learn.org/stable/modules/preprocessing.html\n",
      "Please also refer to the documentation for alternative solver options:\n",
      "    https://scikit-learn.org/stable/modules/linear_model.html#logistic-regression\n",
      "  extra_warning_msg=_LOGISTIC_SOLVER_CONVERGENCE_MSG)\n"
     ]
    },
    {
     "name": "stdout",
     "output_type": "stream",
     "text": [
      "0.9686221009549796\n"
     ]
    }
   ],
   "source": [
    "clf = LogisticRegression()\n",
    "clf.fit(X_train,y_train)\n",
    "acc = clf.score(X_test,y_test)\n",
    "print(acc)"
   ]
  },
  {
   "cell_type": "code",
   "execution_count": 0,
   "metadata": {
    "colab": {},
    "colab_type": "code",
    "id": "nJP4sK65ce8F"
   },
   "outputs": [],
   "source": []
  },
  {
   "cell_type": "markdown",
   "metadata": {
    "colab_type": "text",
    "id": "Ub9bNOvHYRc1"
   },
   "source": [
    "**SVM**"
   ]
  },
  {
   "cell_type": "code",
   "execution_count": 0,
   "metadata": {
    "colab": {
     "base_uri": "https://localhost:8080/",
     "height": 35
    },
    "colab_type": "code",
    "executionInfo": {
     "elapsed": 464210,
     "status": "ok",
     "timestamp": 1586579540593,
     "user": {
      "displayName": "Henil Chopda",
      "photoUrl": "https://lh3.googleusercontent.com/a-/AOh14GhJK54mwO2SF_uu5dZJg5eWR6KEn0OJXruxC2l1EQ=s64",
      "userId": "11801233704060940220"
     },
     "user_tz": -330
    },
    "id": "yYi6peJrYQuo",
    "outputId": "f70db379-64f3-4c06-e3b1-1daa4940b1c1"
   },
   "outputs": [
    {
     "name": "stdout",
     "output_type": "stream",
     "text": [
      "0.9727148703956344\n"
     ]
    }
   ],
   "source": [
    "clf = svm.SVC(kernel = 'linear')\n",
    "clf.fit(X_train,y_train)\n",
    "acc = clf.score(X_test,y_test)\n",
    "print(acc)"
   ]
  },
  {
   "cell_type": "code",
   "execution_count": 0,
   "metadata": {
    "colab": {},
    "colab_type": "code",
    "id": "EV9-zI39c_19"
   },
   "outputs": [],
   "source": []
  }
 ],
 "metadata": {
  "colab": {
   "authorship_tag": "ABX9TyNmq2OSuMhy7CwgniMqpKp+",
   "name": "processing_cv",
   "provenance": []
  },
  "kernelspec": {
   "display_name": "Python 3",
   "language": "python",
   "name": "python3"
  },
  "language_info": {
   "codemirror_mode": {
    "name": "ipython",
    "version": 3
   },
   "file_extension": ".py",
   "mimetype": "text/x-python",
   "name": "python",
   "nbconvert_exporter": "python",
   "pygments_lexer": "ipython3",
   "version": "3.7.4"
  }
 },
 "nbformat": 4,
 "nbformat_minor": 1
}
